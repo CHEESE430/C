{
 "cells": [
  {
   "cell_type": "markdown",
   "id": "775f51ba",
   "metadata": {},
   "source": [
    "# 下载原始txt文件，转换为csv格式 "
   ]
  },
  {
   "cell_type": "code",
   "execution_count": 1,
   "id": "dd79a446",
   "metadata": {},
   "outputs": [
    {
     "name": "stdout",
     "output_type": "stream",
     "text": [
      "导出成功，保存为 output.csv\n"
     ]
    }
   ],
   "source": [
    "import re\n",
    "import pandas as pd\n",
    "\n",
    "def parse_chat_file(file_path):\n",
    "    messages = []\n",
    "    with open(file_path, 'r', encoding='utf-8') as file:\n",
    "        current_message = {'发送人': None, '消息内容': '', '特殊内容': '', '消息时间年': None, '消息时间月': None, '消息时间日': None, '消息时间时': None, '消息时间分': None, '消息时间秒': None}\n",
    "        for line in file:\n",
    "            match = re.match(r'^(\\d{4}-\\d{2}-\\d{2} \\d{2}:\\d{2}:\\d{2}) (.+?):?$', line)\n",
    "            if match:\n",
    "                if current_message['发送人']:\n",
    "                    messages.append(current_message.copy())\n",
    "                current_message['发送人'] = match.group(2)\n",
    "                timestamp = match.group(1).split(' ')\n",
    "                current_message['消息时间年'] = int(timestamp[0].split('-')[0])\n",
    "                current_message['消息时间月'] = int(timestamp[0].split('-')[1])\n",
    "                current_message['消息时间日'] = int(timestamp[0].split('-')[2])\n",
    "                current_message['消息时间时'] = int(timestamp[1].split(':')[0])\n",
    "                current_message['消息时间分'] = int(timestamp[1].split(':')[1])\n",
    "                current_message['消息时间秒'] = int(timestamp[1].split(':')[2])\n",
    "                current_message['消息内容'] = ''\n",
    "                current_message['特殊内容'] = ''\n",
    "            else:\n",
    "                if line.strip().startswith('引用:'):\n",
    "                    current_message['特殊内容'] = line.strip()\n",
    "                else:\n",
    "                    current_message['消息内容'] += line.strip() + ' '\n",
    "        # Add the last message\n",
    "        if current_message['发送人']:\n",
    "            messages.append(current_message.copy())\n",
    "    return messages\n",
    "\n",
    "def create_dataframe(messages):\n",
    "    df = pd.DataFrame(messages)\n",
    "    return df[['发送人', '消息内容', '特殊内容', '消息时间年', '消息时间月', '消息时间日', '消息时间时', '消息时间分', '消息时间秒']]\n",
    "\n",
    "def main():\n",
    "    file_path = '4.24bar.txt'\n",
    "    messages = parse_chat_file(file_path)\n",
    "    df = create_dataframe(messages)\n",
    "    output_file = 'output.csv'\n",
    "    df.to_csv(output_file, index=False, encoding='utf-8-sig')\n",
    "    print(f\"导出成功，保存为 {output_file}\")\n",
    "\n",
    "if __name__ == \"__main__\":\n",
    "    main()"
   ]
  },
  {
   "cell_type": "markdown",
   "id": "56b9be06",
   "metadata": {},
   "source": [
    "# 对数据进行进一步清洗，把所有撤回拍一拍等消息交给发送人“系统”"
   ]
  },
  {
   "cell_type": "code",
   "execution_count": 2,
   "id": "f83cd226",
   "metadata": {},
   "outputs": [
    {
     "name": "stdout",
     "output_type": "stream",
     "text": [
      "修改完成，保存为 outputpro.csv\n"
     ]
    }
   ],
   "source": [
    "# 提供的发送人列表\n",
    "valid_senders = ['dimi', '张钰瑶', '绍煜', '四辩杨婧', '徐铭', '张润涵', '刘垭君', '王佳', '郑欣宇', '凯文师兄', '梓卉师姐', 'Oreo（看到我请提醒我学雅思）']\n",
    "\n",
    "def process_csv(file_path, valid_senders):\n",
    "    df = pd.read_csv(file_path)\n",
    "\n",
    "    for index, row in df.iterrows():\n",
    "        sender = row['发送人']\n",
    "        if sender not in valid_senders:\n",
    "            # 如果发送人不在列表中，则将内容放入特殊内容中，将发送人名称改为系统\n",
    "            df.at[index, '特殊内容'] = row['发送人'] + ': ' + row['消息内容']\n",
    "            df.at[index, '发送人'] = '系统'\n",
    "\n",
    "    output_file = 'outputpro.csv'#csv/xlsx自己改\n",
    "    df.to_csv(output_file, index=False, encoding='utf-8-sig')\n",
    "    print(f\"修改完成，保存为 {output_file}\")\n",
    "\n",
    "def main():\n",
    "    file_path = 'output.csv'\n",
    "    process_csv(file_path, valid_senders)\n",
    "\n",
    "if __name__ == \"__main__\":\n",
    "    main()"
   ]
  },
  {
   "cell_type": "markdown",
   "id": "22a2b38f",
   "metadata": {},
   "source": [
    "# 用以特殊导出，导出每个人每天的发言频数，方便进一步绘图\n",
    "需要注意的是，这里的消息日期经过特殊处理，仅保留了yy/mm/dd格式的一列，叫做消息日期，并把保存方式修改为了xlsx"
   ]
  },
  {
   "cell_type": "code",
   "execution_count": 4,
   "id": "aedd2545",
   "metadata": {},
   "outputs": [
    {
     "name": "stdout",
     "output_type": "stream",
     "text": [
      "导出成功，保存为 daily_message_count_with_individual_counts.xlsx\n"
     ]
    }
   ],
   "source": [
    "import pandas as pd\n",
    "\n",
    "# 1. 读取 Excel 文件\n",
    "df = pd.read_csv('outputpro.csv')  # 注意，这个1outputpro是我手动制作的\n",
    "\n",
    "# 2. 根据日期和发送人分组统计每天每个人的发言条数\n",
    "df['消息日期'] = pd.to_datetime(df['消息日期'])  # 将日期列转换为日期时间类型\n",
    "daily_message_count = df.groupby([df['消息日期'].dt.date, '发送人']).size().unstack(fill_value=0)\n",
    "\n",
    "# 3. 创建包含日期、总发言数量和每个人的发言数量的 DataFrame\n",
    "daily_message_count['总发言数量'] = daily_message_count.sum(axis=1)\n",
    "daily_message_count.reset_index(inplace=True)\n",
    "\n",
    "# 4. 导出 Excel 文件\n",
    "output_file = 'daily_message_count_with_individual_counts.xlsx'\n",
    "daily_message_count.to_excel(output_file, index=False, encoding='utf-8-sig')\n",
    "print(f\"导出成功，保存为 {output_file}\")\n"
   ]
  },
  {
   "cell_type": "code",
   "execution_count": null,
   "id": "de4f0cad",
   "metadata": {},
   "outputs": [],
   "source": []
  }
 ],
 "metadata": {
  "kernelspec": {
   "display_name": "Python 3 (ipykernel)",
   "language": "python",
   "name": "python3"
  },
  "language_info": {
   "codemirror_mode": {
    "name": "ipython",
    "version": 3
   },
   "file_extension": ".py",
   "mimetype": "text/x-python",
   "name": "python",
   "nbconvert_exporter": "python",
   "pygments_lexer": "ipython3",
   "version": "3.9.13"
  }
 },
 "nbformat": 4,
 "nbformat_minor": 5
}
